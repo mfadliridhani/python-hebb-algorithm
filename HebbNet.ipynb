{
 "cells": [
  {
   "cell_type": "markdown",
   "metadata": {},
   "source": [
    "# M. Fadli Ridhani | 226150100111024 | _Sistem Cerdas_"
   ]
  },
  {
   "cell_type": "markdown",
   "metadata": {},
   "source": [
    "## Algoritma Hebb\n",
    "\n",
    "---\n",
    "_**Pengertian**_ Algoritma _Hebb-Rule_ merupakan algoritma pembelajaran pada jaringan saraf tiruan. Algoritma ini dapat mencari nilai bobot peran dari masing-masing input. Sehingga dapat menghasilkan output yang terpisah secara linear sesuai dengan kondisi yang diberikan ketika dilakukan pelatihan terhadap sistem. <br>\n",
    "\n",
    "_**Step 0**_ Inisialisasi semua bobot <br>\n",
    "$\\hspace{1.1cm}$ $w_i=0$ <br>\n",
    "\n",
    "_**Step 1**_ Untuk setiap pasangan vektor input dan target output, $s:t$, kerjakan _Step 2-4_ <br>\n",
    "\n",
    "$\\hspace{1.1cm}$_**Step 2**_ Set aktivasi unit input <br>\n",
    "$\\hspace{2.3cm}$ $x_i=s_i$ <br>\n",
    "\n",
    "$\\hspace{1.1cm}$_**Step 3**_ Set aktivasi unit input <br>\n",
    "$\\hspace{2.3cm}$ $y=t$ <br>\n",
    "\n",
    "$\\hspace{1.1cm}$_**Step 4**_ Perbarui bobot dan bias <br>\n",
    "$\\hspace{2.3cm}$ $w_i(baru)=w_i(lama)+x_iy_j,$ <br>\n",
    "$\\hspace{2.3cm}$ $b(baru)=b(lama)+y$ <br>\n",
    "\n",
    "_**Step 5**_ Dilakukan testing terhadap pola input dengan menggunakan bobot $w$, fungsi aktivasi pola biner <br>\n",
    "$\\hspace{2.3cm}$ $y_j$ = 1 jika $y$ $in_j$ > 0 <br>\n",
    "$\\hspace{2.3cm}$ $y_j$ = 0 jika $y$ $in_j$ <= 0 <br>\n",
    "\n",
    "\n",
    "\n",
    "---"
   ]
  },
  {
   "cell_type": "markdown",
   "metadata": {},
   "source": [
    "## Impementasi Algoritma"
   ]
  },
  {
   "cell_type": "markdown",
   "metadata": {},
   "source": [
    "##### 1. Mengimport library"
   ]
  },
  {
   "cell_type": "code",
   "execution_count": 12,
   "metadata": {},
   "outputs": [],
   "source": [
    "import numpy as np\n",
    "#math operations\n",
    "\n",
    "import matplotlib.pyplot as plt\n",
    "%matplotlib inline  \n",
    "#data visualization\n",
    "\n",
    "import seaborn as sns\n",
    "#high-level interface for drawing statistical graphs"
   ]
  },
  {
   "cell_type": "markdown",
   "metadata": {},
   "source": [
    "##### 2. Algoritma Hebb"
   ]
  },
  {
   "cell_type": "code",
   "execution_count": 13,
   "metadata": {},
   "outputs": [],
   "source": [
    "def HebbNet(s,t):\n",
    "#hebb function, to call the function, use the function name followed by parentheses:\n",
    "    \n",
    "    # step 0\n",
    "    w = np.zeros(s.shape[0])\n",
    "    #create an array filled with zeros from here\n",
    "    \n",
    "    b = 0\n",
    "    \n",
    "    # step 1\n",
    "    for i in range(s.shape[0]):\n",
    "        \n",
    "        #step 2\n",
    "        x = s[i,:]\n",
    "        \n",
    "        #step 3\n",
    "        y = t[i]\n",
    "        \n",
    "        #step 4\n",
    "        w += x*y\n",
    "        b += y\n",
    "    return w,b"
   ]
  },
  {
   "cell_type": "markdown",
   "metadata": {},
   "source": [
    "## Contoh Soal"
   ]
  },
  {
   "cell_type": "markdown",
   "metadata": {},
   "source": [
    "Misalkan sebuah jaringan HM dilatih untuk menyimpan pola dari vektor input dan target dengan menghasilkan tabel berikut ini \n",
    "\n",
    "$$\\begin{align*}\n",
    "Input\\hspace{0.5cm}&&Target\\hspace{0.1cm}\\\\\n",
    "1\\hspace{0.5cm}0\\hspace{0.5cm}0\\hspace{0.5cm}0&&1\\hspace{0.38cm}0\\hspace{0.38cm}\\\\\n",
    "1\\hspace{0.5cm}1\\hspace{0.5cm}0\\hspace{0.5cm}0&&1\\hspace{0.38cm}0\\hspace{0.38cm}\\\\\n",
    "0\\hspace{0.5cm}0\\hspace{0.5cm}0\\hspace{0.5cm}1&&0\\hspace{0.38cm}1\\hspace{0.38cm}\\\\\n",
    "0\\hspace{0.5cm}0\\hspace{0.5cm}1\\hspace{0.5cm}1&&0\\hspace{0.38cm}1\\hspace{0.38cm}\\\\\n",
    "\\end{align*}\n",
    "$$"
   ]
  },
  {
   "cell_type": "markdown",
   "metadata": {},
   "source": [
    "##### 3. Mencari Bobot Dari Input dan Target y1"
   ]
  },
  {
   "cell_type": "code",
   "execution_count": 98,
   "metadata": {},
   "outputs": [
    {
     "name": "stdout",
     "output_type": "stream",
     "text": [
      "[2. 1. 0. 0.] 2\n"
     ]
    }
   ],
   "source": [
    "#input\n",
    "x = np.array([[1,0,0,0],\n",
    "                [1,1,0,0],\n",
    "                [0,0,0,1],\n",
    "                [0,0,1,1]])\n",
    "#target with y1\n",
    "y = np.array([1,\n",
    "               1,\n",
    "               0,\n",
    "               0])\n",
    "\n",
    "#calculation of weights and biases with the hebb net method\n",
    "w,b = HebbNet(x,y)\n",
    "print(w,b)"
   ]
  },
  {
   "cell_type": "markdown",
   "metadata": {},
   "source": [
    "##### 4. Fungsi Aktivasi Input dan Target y1"
   ]
  },
  {
   "cell_type": "code",
   "execution_count": 95,
   "metadata": {},
   "outputs": [
    {
     "name": "stdout",
     "output_type": "stream",
     "text": [
      "1\n",
      "1\n",
      "0\n",
      "0\n"
     ]
    }
   ],
   "source": [
    "array = [2,1,0,0]\n",
    "for i in range(4):\n",
    "    \n",
    "    # step 5.1\n",
    "    if array[i] > 0:\n",
    "        print(1)\n",
    "    elif array[i] <= 0:\n",
    "        print(0)"
   ]
  },
  {
   "cell_type": "markdown",
   "metadata": {},
   "source": [
    "##### 5. Mencari Bobot Dari Input dan Target y2"
   ]
  },
  {
   "cell_type": "code",
   "execution_count": 91,
   "metadata": {},
   "outputs": [
    {
     "name": "stdout",
     "output_type": "stream",
     "text": [
      "[0. 0. 1. 2.] 2\n"
     ]
    }
   ],
   "source": [
    "#input\n",
    "x = np.array([[1,0,0,0],\n",
    "                [1,1,0,0],\n",
    "                [0,0,0,1],\n",
    "                [0,0,1,1]])\n",
    "#target with y2\n",
    "y = np.array([0,\n",
    "               0,\n",
    "               1,\n",
    "               1])\n",
    "\n",
    "#calculation of weights and biases with the hebb net method\n",
    "w,b = HebbNet(x,y)\n",
    "print(w,b)"
   ]
  },
  {
   "cell_type": "markdown",
   "metadata": {},
   "source": [
    "##### 6. Fungsi Aktivasi Input dan Target y2"
   ]
  },
  {
   "cell_type": "code",
   "execution_count": 96,
   "metadata": {},
   "outputs": [
    {
     "name": "stdout",
     "output_type": "stream",
     "text": [
      "0\n",
      "0\n",
      "1\n",
      "1\n"
     ]
    }
   ],
   "source": [
    "\n",
    "array = [0,0,1,2]\n",
    "for i in range(4):\n",
    "    \n",
    "    # step 5.2\n",
    "    if array[i] > 0:\n",
    "        print(1)\n",
    "    elif array[i] <= 0:\n",
    "        print(0)"
   ]
  }
 ],
 "metadata": {
  "kernelspec": {
   "display_name": "Python 3 (ipykernel)",
   "language": "python",
   "name": "python3"
  },
  "language_info": {
   "codemirror_mode": {
    "name": "ipython",
    "version": 3
   },
   "file_extension": ".py",
   "mimetype": "text/x-python",
   "name": "python",
   "nbconvert_exporter": "python",
   "pygments_lexer": "ipython3",
   "version": "3.10.7"
  }
 },
 "nbformat": 4,
 "nbformat_minor": 2
}
